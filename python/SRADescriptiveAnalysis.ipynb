{
 "cells": [
  {
   "cell_type": "markdown",
   "metadata": {
    "collapsed": true
   },
   "source": [
    "# Exploración de las alarmas de ascensores de 2016"
   ]
  },
  {
   "cell_type": "code",
   "execution_count": null,
   "metadata": {
    "collapsed": true
   },
   "outputs": [],
   "source": [
    "# Load libraries\n",
    "import pandas as pd\n",
    "from matplotlib import pyplot as plt"
   ]
  },
  {
   "cell_type": "code",
   "execution_count": null,
   "metadata": {
    "collapsed": true
   },
   "outputs": [],
   "source": [
    "alarmas = pd.read_csv('../data/SRA/Parciales originales/SRA_ASC_2016_HIST_PRUEBA.csv', sep=';', low_memory=False)"
   ]
  },
  {
   "cell_type": "code",
   "execution_count": null,
   "metadata": {
    "collapsed": true
   },
   "outputs": [],
   "source": [
    "alarmas.head()"
   ]
  },
  {
   "cell_type": "code",
   "execution_count": null,
   "metadata": {
    "collapsed": true
   },
   "outputs": [],
   "source": [
    "alarmas.shape"
   ]
  },
  {
   "cell_type": "code",
   "execution_count": null,
   "metadata": {
    "collapsed": true
   },
   "outputs": [],
   "source": [
    "alarmas.dtypes"
   ]
  },
  {
   "cell_type": "code",
   "execution_count": null,
   "metadata": {
    "collapsed": true
   },
   "outputs": [],
   "source": [
    "# Change date types (takes too long, check why!)\n",
    "alarmas['Fecha Inicio'] = pd.to_datetime(alarmas['Fecha Inicio'])"
   ]
  },
  {
   "cell_type": "code",
   "execution_count": null,
   "metadata": {
    "collapsed": true
   },
   "outputs": [],
   "source": [
    "alarmas['Fecha Solucion'] = pd.to_datetime(alarmas['Fecha Solucion'])"
   ]
  },
  {
   "cell_type": "code",
   "execution_count": null,
   "metadata": {
    "collapsed": true
   },
   "outputs": [],
   "source": [
    "alarmas.dtypes"
   ]
  },
  {
   "cell_type": "code",
   "execution_count": null,
   "metadata": {
    "collapsed": true
   },
   "outputs": [],
   "source": [
    "# Let's see how many alerts there are by metro line\n",
    "alarmas.groupby('Linea').size()"
   ]
  },
  {
   "cell_type": "code",
   "execution_count": null,
   "metadata": {
    "collapsed": true
   },
   "outputs": [],
   "source": [
    "alarmas.Linea.value_counts().plot(kind='bar')\n",
    "plt.show()"
   ]
  },
  {
   "cell_type": "code",
   "execution_count": null,
   "metadata": {
    "collapsed": true
   },
   "outputs": [],
   "source": [
    "alarmas['Linea'].unique()"
   ]
  },
  {
   "cell_type": "code",
   "execution_count": null,
   "metadata": {
    "collapsed": true
   },
   "outputs": [],
   "source": [
    "alarmas['Linea'] = alarmas['Linea'].map({'L1':1, 'L2':2, 'L3':3, 'L4':4, 'L5':5, 'L6':6, 'L7':7, 'L8':8, 'L9':9, 'L10':10, \n",
    "                                         'L11':11, 'L12':12, 'RAMAL OPERA-P.PIO':13, 'ML1':14, 'ML2':15, 'ML3':16})\n",
    "\n",
    "alarmas.head()"
   ]
  },
  {
   "cell_type": "code",
   "execution_count": null,
   "metadata": {
    "collapsed": true
   },
   "outputs": [],
   "source": [
    "# Nueva variable: Tiempo de resolución\n",
    "alarmas['Tiempo resolucion'] = alarmas['Fecha Solucion'] - alarmas['Fecha Inicio']\n",
    "alarmas['Tiempo resolucion'] = alarmas['Tiempo resolucion'].dt.total_seconds()\n",
    "alarmas.head()"
   ]
  },
  {
   "cell_type": "code",
   "execution_count": null,
   "metadata": {
    "collapsed": true
   },
   "outputs": [],
   "source": [
    "alarmas['Tiempo resolucion'].describe()"
   ]
  },
  {
   "cell_type": "code",
   "execution_count": null,
   "metadata": {
    "collapsed": true
   },
   "outputs": [],
   "source": [
    "alarmas['Tiempo resolucion'].plot(kind='density')\n",
    "plt.show()"
   ]
  },
  {
   "cell_type": "code",
   "execution_count": null,
   "metadata": {
    "collapsed": true
   },
   "outputs": [],
   "source": [
    "alarmas['Tiempo resolucion'].hist()\n",
    "plt.show()"
   ]
  },
  {
   "cell_type": "code",
   "execution_count": null,
   "metadata": {
    "collapsed": true
   },
   "outputs": [],
   "source": [
    "# Observamos que las fechas de solución no están bien informadas (1669/339867)\n",
    "# De momento nos quitamos las que están mal informadas\n",
    "alarmas = alarmas[alarmas['Tiempo resolucion'] >= 0]\n",
    "alarmas.head()"
   ]
  },
  {
   "cell_type": "code",
   "execution_count": null,
   "metadata": {
    "collapsed": true
   },
   "outputs": [],
   "source": [
    "alarmas['Tiempo resolucion'].plot(kind='box')\n",
    "plt.show()"
   ]
  },
  {
   "cell_type": "code",
   "execution_count": null,
   "metadata": {
    "collapsed": true
   },
   "outputs": [],
   "source": [
    "alarmas.shape"
   ]
  },
  {
   "cell_type": "code",
   "execution_count": null,
   "metadata": {
    "collapsed": true
   },
   "outputs": [],
   "source": [
    "# Nueva variable: Día de la semana en la que se informa la alarma\n",
    "alarmas['Dia semana informada'] = alarmas['Fecha Inicio'].dt.dayofweek\n",
    "\n",
    "# Nueva variable: día de la semana en la que se da por resuelta la incidencia\n",
    "alarmas['Dia semana resolucion'] = alarmas['Fecha Solucion'].dt.dayofweek\n",
    "\n",
    "alarmas.head()"
   ]
  },
  {
   "cell_type": "code",
   "execution_count": null,
   "metadata": {
    "collapsed": true
   },
   "outputs": [],
   "source": [
    "# Veamos si a simple vista el día de la semana influye en el número de alarmas\n",
    "alarmas.groupby('Dia semana informada').size()"
   ]
  },
  {
   "cell_type": "code",
   "execution_count": null,
   "metadata": {
    "collapsed": true
   },
   "outputs": [],
   "source": [
    "# Veamos si a simple vista el día de la semana de inicio de la alarma influye en el tiempo de resolución\n",
    "# Scatter day of week - resolution time\n",
    "plt.scatter(alarmas['Dia semana informada'], alarmas['Tiempo resolucion'])\n",
    "plt.show()"
   ]
  },
  {
   "cell_type": "code",
   "execution_count": null,
   "metadata": {
    "collapsed": true
   },
   "outputs": [],
   "source": [
    "# Veamos si la hora a la que se informa una incidencia y el tiempo de resolución están relacionados\n",
    "# Primero definimos una nueva variable: Hora a la que se informa la alarma (en segundos)\n",
    "alarmas['Hora informada(sec)'] = alarmas['Fecha Inicio'].dt.hour * 3600 + alarmas['Fecha Inicio'].dt.minute * 60 + alarmas['Fecha Inicio'].dt.second\n",
    "\n",
    "alarmas.head()"
   ]
  },
  {
   "cell_type": "code",
   "execution_count": null,
   "metadata": {
    "collapsed": true
   },
   "outputs": [],
   "source": [
    "plt.scatter(alarmas['Hora informada(sec)'], alarmas['Tiempo resolucion'])\n",
    "plt.show()"
   ]
  },
  {
   "cell_type": "code",
   "execution_count": null,
   "metadata": {
    "collapsed": true
   },
   "outputs": [],
   "source": [
    "# Veamoslo por línea\n",
    "plt.scatter(alarmas['Hora informada(sec)'], alarmas['Tiempo resolucion'], c=alarmas['Dia semana informada'], alpha=0.5)\n",
    "plt.show()"
   ]
  },
  {
   "cell_type": "code",
   "execution_count": null,
   "metadata": {
    "collapsed": true
   },
   "outputs": [],
   "source": [
    "# Veamos si la línea en la que se da la alarma influye en el tiempo de resolución\n",
    "# Scatter line - resolution time\n",
    "plt.scatter(alarmas['Linea'], alarmas['Tiempo resolucion'])\n",
    "plt.show()"
   ]
  },
  {
   "cell_type": "code",
   "execution_count": null,
   "metadata": {
    "collapsed": true
   },
   "outputs": [],
   "source": [
    "# Veamos si dependiendo de la hora hay más o menos inciencias\n",
    "alarmas['Hora informada(sec)'].hist()\n",
    "plt.show()"
   ]
  },
  {
   "cell_type": "code",
   "execution_count": null,
   "metadata": {
    "collapsed": true
   },
   "outputs": [],
   "source": [
    "# Comprobamos que a simple vista no hay diferencia de unos días a otros\n",
    "alarmas['Hora informada(sec)'].hist(by=alarmas['Dia semana informada'], layout=(1,7), figsize=(16,3))\n",
    "plt.show()"
   ]
  },
  {
   "cell_type": "code",
   "execution_count": null,
   "metadata": {
    "collapsed": true
   },
   "outputs": [],
   "source": [
    "# Parece que las correctivas se informan por la noche a partir de las 00:00 principalmente. Las predictivas se informan\n",
    "# a lo largo del día, principalmente en las horas en las que el metro está abierto\n",
    "alarmas['Hora informada(sec)'].hist(by=alarmas['Predictiva/Correctiva'])\n",
    "plt.show()"
   ]
  },
  {
   "cell_type": "code",
   "execution_count": null,
   "metadata": {
    "collapsed": true
   },
   "outputs": [],
   "source": [
    "# Queremos ver si está relacionada la hora de la incidencia con el código de la misma\n",
    "plt.scatter(alarmas['Codigo Alarma'], alarmas['Hora informada(sec)'])\n",
    "plt.show()"
   ]
  },
  {
   "cell_type": "code",
   "execution_count": null,
   "metadata": {
    "collapsed": true
   },
   "outputs": [],
   "source": [
    "# Veamos si el tiempo de resolución lo está\n",
    "plt.scatter(alarmas['Codigo Alarma'], alarmas['Tiempo resolucion'])\n",
    "plt.show()"
   ]
  },
  {
   "cell_type": "code",
   "execution_count": null,
   "metadata": {
    "collapsed": true
   },
   "outputs": [],
   "source": [
    "alarmas.groupby('Codigo Alarma').size()"
   ]
  },
  {
   "cell_type": "code",
   "execution_count": null,
   "metadata": {
    "collapsed": true
   },
   "outputs": [],
   "source": []
  }
 ],
 "metadata": {
  "kernelspec": {
   "display_name": "Python 2",
   "language": "python",
   "name": "python2"
  },
  "language_info": {
   "codemirror_mode": {
    "name": "ipython",
    "version": 2
   },
   "file_extension": ".py",
   "mimetype": "text/x-python",
   "name": "python",
   "nbconvert_exporter": "python",
   "pygments_lexer": "ipython2",
   "version": "2.7.13"
  }
 },
 "nbformat": 4,
 "nbformat_minor": 2
}
